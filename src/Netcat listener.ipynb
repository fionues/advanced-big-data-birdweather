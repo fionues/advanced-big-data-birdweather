{
 "cells": [
  {
   "cell_type": "code",
   "execution_count": 1,
   "id": "b576e81c-7689-48a3-aedd-e54ba13193a7",
   "metadata": {},
   "outputs": [
    {
     "ename": "OSError",
     "evalue": "[Errno 98] Address already in use",
     "output_type": "error",
     "traceback": [
      "\u001b[0;31m---------------------------------------------------------------------------\u001b[0m",
      "\u001b[0;31mOSError\u001b[0m                                   Traceback (most recent call last)",
      "Cell \u001b[0;32mIn[1], line 20\u001b[0m\n\u001b[1;32m     17\u001b[0m     conn\u001b[38;5;241m.\u001b[39mclose()\n\u001b[1;32m     18\u001b[0m     listener_socket\u001b[38;5;241m.\u001b[39mclose()\n\u001b[0;32m---> 20\u001b[0m \u001b[43mlisten\u001b[49m\u001b[43m(\u001b[49m\u001b[38;5;124;43m\"\u001b[39;49m\u001b[38;5;124;43m127.0.0.1\u001b[39;49m\u001b[38;5;124;43m\"\u001b[39;49m\u001b[43m,\u001b[49m\u001b[43m \u001b[49m\u001b[38;5;241;43m9998\u001b[39;49m\u001b[43m)\u001b[49m\n",
      "Cell \u001b[0;32mIn[1], line 6\u001b[0m, in \u001b[0;36mlisten\u001b[0;34m(ip, port)\u001b[0m\n\u001b[1;32m      4\u001b[0m listener_socket \u001b[38;5;241m=\u001b[39m socket\u001b[38;5;241m.\u001b[39msocket(socket\u001b[38;5;241m.\u001b[39mAF_INET, socket\u001b[38;5;241m.\u001b[39mSOCK_STREAM)\n\u001b[1;32m      5\u001b[0m listener_socket\u001b[38;5;241m.\u001b[39msetsockopt(socket\u001b[38;5;241m.\u001b[39mSOL_SOCKET, socket\u001b[38;5;241m.\u001b[39mSO_REUSEADDR, \u001b[38;5;241m1\u001b[39m)\n\u001b[0;32m----> 6\u001b[0m \u001b[43mlistener_socket\u001b[49m\u001b[38;5;241;43m.\u001b[39;49m\u001b[43mbind\u001b[49m\u001b[43m(\u001b[49m\u001b[43m(\u001b[49m\u001b[43mip\u001b[49m\u001b[43m,\u001b[49m\u001b[43m \u001b[49m\u001b[43mport\u001b[49m\u001b[43m)\u001b[49m\u001b[43m)\u001b[49m\n\u001b[1;32m      7\u001b[0m listener_socket\u001b[38;5;241m.\u001b[39mlisten(\u001b[38;5;241m10\u001b[39m)\n\u001b[1;32m      8\u001b[0m conn, addr \u001b[38;5;241m=\u001b[39m listener_socket\u001b[38;5;241m.\u001b[39maccept()\n",
      "\u001b[0;31mOSError\u001b[0m: [Errno 98] Address already in use"
     ]
    }
   ],
   "source": [
    "import socket\n",
    "\n",
    "def listen(ip, port):\n",
    "    listener_socket = socket.socket(socket.AF_INET, socket.SOCK_STREAM)\n",
    "    listener_socket.setsockopt(socket.SOL_SOCKET, socket.SO_REUSEADDR, 1)\n",
    "    listener_socket.bind((ip, port))\n",
    "    listener_socket.listen(10)\n",
    "    conn, addr = listener_socket.accept()\n",
    "    print(f\"Verbindung hergestellt mit {addr}\")\n",
    "\n",
    "    while True:\n",
    "        data = conn.recv(1024)\n",
    "        if not data:\n",
    "            break\n",
    "        print(\"Empfangen:\", data.decode('utf-8'))\n",
    "\n",
    "    conn.close()\n",
    "    listener_socket.close()\n",
    "\n",
    "listen(\"127.0.0.1\", 9998)"
   ]
  }
 ],
 "metadata": {
  "kernelspec": {
   "display_name": "Python 3 (ipykernel)",
   "language": "python",
   "name": "python3"
  },
  "language_info": {
   "codemirror_mode": {
    "name": "ipython",
    "version": 3
   },
   "file_extension": ".py",
   "mimetype": "text/x-python",
   "name": "python",
   "nbconvert_exporter": "python",
   "pygments_lexer": "ipython3",
   "version": "3.11.6"
  }
 },
 "nbformat": 4,
 "nbformat_minor": 5
}
