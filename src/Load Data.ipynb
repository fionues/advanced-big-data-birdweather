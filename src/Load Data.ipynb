{
 "cells": [
  {
   "cell_type": "code",
   "execution_count": 74,
   "id": "5e226d49-96e1-44ad-8f1f-79abb8ec0cd7",
   "metadata": {},
   "outputs": [
    {
     "name": "stdout",
     "output_type": "stream",
     "text": [
      "Die Antwort wurde in der Datei birdsdetection11Tage.json gespeichert und ergänzt.\n"
     ]
    }
   ],
   "source": [
    "import requests\n",
    "from urllib.parse import quote\n",
    "import json\n",
    "\n",
    "#maximale json Objekte pro Response sind nur 100, daher werden die Daten im Loop gecallt\n",
    "#Achtung!, Vorgang dauert eine Weile. Bei 10000 Daten etwa 5min\n",
    "\n",
    "datefrom = \"2025-03-01 07:00:00+01:00\" #Bsp \"2025-03-01 07:00:00+01:00\"\n",
    "dateto = \"2025-03-11 19:00:00+01:00\" #Bsp \"2025-03-11 19:00:00+01:00\"\n",
    "amountOfData = 200 #vielfaches von 100, es wird von den vorhandenen Daten so viele Datensätze rückwärts gezählt von dateto bis datefrom\n",
    "cursor = 10**11 #id der detection, von der rückwärts gesucht werden soll, sollte höher als die neuste detection id sein ca zwischen \n",
    "\n",
    "url_template = \"https://app.birdweather.com/api/v1/stations/DyN8YVq6mUZrh9CQFLG6hx4U/detections?limit=100&cursor={cursor}&from={from_date}&to={to_date}&speciesId&query&locale\"\n",
    "headers = {'Authorization': 'PUC-8420'.encode('ISO-8859-1')}\n",
    "\n",
    "all_detections = []\n",
    "\n",
    "for r in range(1, int((amountOfData/100)+1)): \n",
    "    cursor = cursor\n",
    "    from_date = quote(datefrom)\n",
    "    to_date = quote(dateto)\n",
    "    url = url_template.format(cursor=cursor, from_date=from_date, to_date=to_date)\n",
    "    \n",
    "    response = requests.request(\"GET\", url, headers=headers, data=payload)\n",
    "    birdsdetection_json = response.json()\n",
    "       \n",
    "    if 'detections' in birdsdetection_json:\n",
    "        reversed_detections = birdsdetection_json['detections'][::-1] #sortiere die items, neuestes zuunterst\n",
    "        all_detections.extend(reversed_detections)\n",
    "        cursor = reversed_detections[0]['id'] #setze cursor auf letztes item, damit die nächsten 100 elemente gecallt werden\n",
    "\n",
    "all_detections = sorted(all_detections, key=lambda x: x['timestamp']) #sortiere alle items, neuestes zuunterst\n",
    "with open('birdsdetection11Tage.json', 'w') as json_file:\n",
    "    json.dump(all_detections, json_file, indent=4)\n",
    "\n",
    "print(\"Die Antwort wurde in der Datei birdsdetection11Tage.json gespeichert und ergänzt.\")"
   ]
  },
  {
   "cell_type": "code",
   "execution_count": null,
   "id": "20a989f2-2d3a-465b-ae37-72c74576fd17",
   "metadata": {},
   "outputs": [],
   "source": []
  },
  {
   "cell_type": "code",
   "execution_count": null,
   "id": "f0820535-27f7-4bc1-b4a0-c92edb6fd582",
   "metadata": {},
   "outputs": [],
   "source": []
  }
 ],
 "metadata": {
  "kernelspec": {
   "display_name": "Python 3 (ipykernel)",
   "language": "python",
   "name": "python3"
  },
  "language_info": {
   "codemirror_mode": {
    "name": "ipython",
    "version": 3
   },
   "file_extension": ".py",
   "mimetype": "text/x-python",
   "name": "python",
   "nbconvert_exporter": "python",
   "pygments_lexer": "ipython3",
   "version": "3.11.6"
  }
 },
 "nbformat": 4,
 "nbformat_minor": 5
}
