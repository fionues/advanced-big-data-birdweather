{
 "cells": [
  {
   "cell_type": "code",
   "execution_count": 1,
   "id": "7de17a94-9a10-4451-83af-8d91c5ee2fb0",
   "metadata": {},
   "outputs": [
    {
     "name": "stdout",
     "output_type": "stream",
     "text": [
      "Die JSON-Datei enthält 10000 Objekte.\n"
     ]
    }
   ],
   "source": [
    "# Preparations:\n",
    "\n",
    "import json\n",
    "\n",
    "# Lese die JSON-Datei\n",
    "with open('birdsdetection11Tage_backup.json', 'r') as json_file:\n",
    "    response_json = json.load(json_file)\n",
    "\n",
    "# Berechne die Anzahl der Objekte in der Liste 'detections'\n",
    "num_objects = len(response_json)\n",
    "#response_json['detections']\n",
    "\n",
    "print(f\"Die JSON-Datei enthält {num_objects} Objekte.\")"
   ]
  },
  {
   "cell_type": "code",
   "execution_count": null,
   "id": "f3cd5a60-fc18-4113-bc25-0c2dd8aafd2d",
   "metadata": {},
   "outputs": [
    {
     "name": "stdout",
     "output_type": "stream",
     "text": [
      "Verbindung hergestellt mit ('127.0.0.1', 54310)\n",
      "Gesendet: b'{\"id\": 1703328004, \"stationId\": 8420, \"timestamp\": \"2025-03-02T16:23:46.500+01:00\", \"confidence\": 0.5519319772720337, \"probability\": 0.3230060338973999, \"score\": 7.0181149342224245, \"certainty\": \"almost_certain\", \"algorithm\": \"BirdNET\", \"metadata\": null, \"species\": {\"id\": 8, \"commonName\": \"Long-tailed Tit\", \"scientificName\": \"Aegithalos caudatus\", \"color\": \"#bdc706\", \"imageUrl\": \"https://media.birdweather.com/species/8/Long-tailedTit-standard-f8bdec5e2df87ccaa32a7b13a292f078.jpg\", \"thumbnailUrl\": \"https://media.birdweather.com/species/8/Long-tailedTit-thumbnail-652dd0fa7d32953de84a85963165fb57.jpg\", \"pngUrl\": \"https://media.birdweather.com/species/8/Long-tailedTit-png200-aba8917f8bf81c61c1bc7e2fe9f8aa63.png\"}, \"lat\": 47.533417, \"lon\": 8.739937, \"soundscape\": {\"id\": 2183815537, \"url\": \"https://media.birdweather.com/soundscapes/2075176fa296a4ef4d1648f527e911ad\", \"startTime\": 1.5, \"endTime\": 4.5, \"mode\": \"live\"}}\\n'\n",
      "Gesendet: b'{\"id\": 1703328021, \"stationId\": 8420, \"timestamp\": \"2025-03-02T16:23:52.500+01:00\", \"confidence\": 0.5574557185173035, \"probability\": 0.9934209585189819, \"score\": 8.558951753846465, \"certainty\": \"almost_certain\", \"algorithm\": \"BirdNET\", \"metadata\": null, \"species\": {\"id\": 11, \"commonName\": \"Great Tit\", \"scientificName\": \"Parus major\", \"color\": \"#7a41c7\", \"imageUrl\": \"https://media.birdweather.com/species/11/GreatTit-standard-0058e4dcd148acb2e0cb8a7b7c6ad3b2.jpg\", \"thumbnailUrl\": \"https://media.birdweather.com/species/11/GreatTit-thumbnail-6910d0adae4550c5e6f2396322ee64c4.jpg\", \"pngUrl\": \"https://media.birdweather.com/species/11/GreatTit-png200-9f3394faf07d12f615112c10cb9d7f02.png\"}, \"lat\": 47.533417, \"lon\": 8.739937, \"soundscape\": {\"id\": 2183815537, \"url\": \"https://media.birdweather.com/soundscapes/2075176fa296a4ef4d1648f527e911ad\", \"startTime\": 7.5, \"endTime\": 10.5, \"mode\": \"live\"}}\\n'\n",
      "Gesendet: b'{\"id\": 1703333456, \"stationId\": 8420, \"timestamp\": \"2025-03-02T16:24:28.500+01:00\", \"confidence\": 0.752936065196991, \"probability\": 0.6223928928375244, \"score\": 8.700395634135973, \"certainty\": \"almost_certain\", \"algorithm\": \"BirdNET\", \"metadata\": null, \"species\": {\"id\": 1, \"commonName\": \"House Sparrow\", \"scientificName\": \"Passer domesticus\", \"color\": \"#d16ff8\", \"imageUrl\": \"https://media.birdweather.com/species/1/HouseSparrow-standard-b861184cf45c092cdb45fd689dd676ef.jpg\", \"thumbnailUrl\": \"https://media.birdweather.com/species/1/HouseSparrow-thumbnail-e9cbc91763a1579de8ef04880678b5e3.jpg\", \"pngUrl\": \"https://media.birdweather.com/species/1/HouseSparrow-png200-125e8603e1efe9d7a18316b94f06a65e.png\"}, \"lat\": 47.533432, \"lon\": 8.73996, \"soundscape\": {\"id\": 2183820721, \"url\": \"https://media.birdweather.com/soundscapes/fdbcd91cd6f24c5edca697120a4aef08\", \"startTime\": 4.5, \"endTime\": 7.5, \"mode\": \"live\"}}\\n'\n",
      "Gesendet: b'{\"id\": 1703333459, \"stationId\": 8420, \"timestamp\": \"2025-03-02T16:24:30.000+01:00\", \"confidence\": 0.8344702124595642, \"probability\": 0.6223928928375244, \"score\": 8.927164911660286, \"certainty\": \"almost_certain\", \"algorithm\": \"BirdNET\", \"metadata\": null, \"species\": {\"id\": 1, \"commonName\": \"House Sparrow\", \"scientificName\": \"Passer domesticus\", \"color\": \"#d16ff8\", \"imageUrl\": \"https://media.birdweather.com/species/1/HouseSparrow-standard-b861184cf45c092cdb45fd689dd676ef.jpg\", \"thumbnailUrl\": \"https://media.birdweather.com/species/1/HouseSparrow-thumbnail-e9cbc91763a1579de8ef04880678b5e3.jpg\", \"pngUrl\": \"https://media.birdweather.com/species/1/HouseSparrow-png200-125e8603e1efe9d7a18316b94f06a65e.png\"}, \"lat\": 47.533432, \"lon\": 8.73996, \"soundscape\": {\"id\": 2183820721, \"url\": \"https://media.birdweather.com/soundscapes/fdbcd91cd6f24c5edca697120a4aef08\", \"startTime\": 6.0, \"endTime\": 9.0, \"mode\": \"live\"}}\\n'\n",
      "Gesendet: b'{\"id\": 1703333460, \"stationId\": 8420, \"timestamp\": \"2025-03-02T16:24:31.500+01:00\", \"confidence\": 0.5570931434631348, \"probability\": 0.6223928928375244, \"score\": 7.924547462651235, \"certainty\": \"almost_certain\", \"algorithm\": \"BirdNET\", \"metadata\": null, \"species\": {\"id\": 1, \"commonName\": \"House Sparrow\", \"scientificName\": \"Passer domesticus\", \"color\": \"#d16ff8\", \"imageUrl\": \"https://media.birdweather.com/species/1/HouseSparrow-standard-b861184cf45c092cdb45fd689dd676ef.jpg\", \"thumbnailUrl\": \"https://media.birdweather.com/species/1/HouseSparrow-thumbnail-e9cbc91763a1579de8ef04880678b5e3.jpg\", \"pngUrl\": \"https://media.birdweather.com/species/1/HouseSparrow-png200-125e8603e1efe9d7a18316b94f06a65e.png\"}, \"lat\": 47.533432, \"lon\": 8.73996, \"soundscape\": {\"id\": 2183820721, \"url\": \"https://media.birdweather.com/soundscapes/fdbcd91cd6f24c5edca697120a4aef08\", \"startTime\": 7.5, \"endTime\": 10.5, \"mode\": \"live\"}}\\n'\n",
      "Gesendet: b'{\"id\": 1703335156, \"stationId\": 8420, \"timestamp\": \"2025-03-02T16:24:36.000+01:00\", \"confidence\": 0.884177565574646, \"probability\": 0.6223928928375244, \"score\": 9.048997625320444, \"certainty\": \"almost_certain\", \"algorithm\": \"BirdNET\", \"metadata\": null, \"species\": {\"id\": 1, \"commonName\": \"House Sparrow\", \"scientificName\": \"Passer domesticus\", \"color\": \"#d16ff8\", \"imageUrl\": \"https://media.birdweather.com/species/1/HouseSparrow-standard-b861184cf45c092cdb45fd689dd676ef.jpg\", \"thumbnailUrl\": \"https://media.birdweather.com/species/1/HouseSparrow-thumbnail-e9cbc91763a1579de8ef04880678b5e3.jpg\", \"pngUrl\": \"https://media.birdweather.com/species/1/HouseSparrow-png200-125e8603e1efe9d7a18316b94f06a65e.png\"}, \"lat\": 47.533493, \"lon\": 8.740091, \"soundscape\": {\"id\": 2183822286, \"url\": \"https://media.birdweather.com/soundscapes/a290b226e9e4618e5c1f86077023d947\", \"startTime\": 0.0, \"endTime\": 3.0, \"mode\": \"live\"}}\\n'\n",
      "Gesendet: b'{\"id\": 1703336865, \"stationId\": 8420, \"timestamp\": \"2025-03-02T16:24:49.000+01:00\", \"confidence\": 0.9396891593933105, \"probability\": 0.6223928928375244, \"score\": 9.173362639571785, \"certainty\": \"almost_certain\", \"algorithm\": \"BirdNET\", \"metadata\": null, \"species\": {\"id\": 1, \"commonName\": \"House Sparrow\", \"scientificName\": \"Passer domesticus\", \"color\": \"#d16ff8\", \"imageUrl\": \"https://media.birdweather.com/species/1/HouseSparrow-standard-b861184cf45c092cdb45fd689dd676ef.jpg\", \"thumbnailUrl\": \"https://media.birdweather.com/species/1/HouseSparrow-thumbnail-e9cbc91763a1579de8ef04880678b5e3.jpg\", \"pngUrl\": \"https://media.birdweather.com/species/1/HouseSparrow-png200-125e8603e1efe9d7a18316b94f06a65e.png\"}, \"lat\": 47.533493, \"lon\": 8.740102, \"soundscape\": {\"id\": 2183823927, \"url\": \"https://media.birdweather.com/soundscapes/c286653eb9b72eb0078178ffdd1fdabf\", \"startTime\": 0.0, \"endTime\": 3.0, \"mode\": \"live\"}}\\n'\n",
      "Gesendet: b'{\"id\": 1703336886, \"stationId\": 8420, \"timestamp\": \"2025-03-02T16:24:50.500+01:00\", \"confidence\": 0.8769093751907349, \"probability\": 0.6223928928375244, \"score\": 9.031845505972793, \"certainty\": \"almost_certain\", \"algorithm\": \"BirdNET\", \"metadata\": null, \"species\": {\"id\": 1, \"commonName\": \"House Sparrow\", \"scientificName\": \"Passer domesticus\", \"color\": \"#d16ff8\", \"imageUrl\": \"https://media.birdweather.com/species/1/HouseSparrow-standard-b861184cf45c092cdb45fd689dd676ef.jpg\", \"thumbnailUrl\": \"https://media.birdweather.com/species/1/HouseSparrow-thumbnail-e9cbc91763a1579de8ef04880678b5e3.jpg\", \"pngUrl\": \"https://media.birdweather.com/species/1/HouseSparrow-png200-125e8603e1efe9d7a18316b94f06a65e.png\"}, \"lat\": 47.533493, \"lon\": 8.740102, \"soundscape\": {\"id\": 2183823927, \"url\": \"https://media.birdweather.com/soundscapes/c286653eb9b72eb0078178ffdd1fdabf\", \"startTime\": 1.5, \"endTime\": 4.5, \"mode\": \"live\"}}\\n'\n",
      "Gesendet: b'{\"id\": 1703336896, \"stationId\": 8420, \"timestamp\": \"2025-03-02T16:24:52.000+01:00\", \"confidence\": 0.9422377347946167, \"probability\": 0.6223928928375244, \"score\": 9.178809990611393, \"certainty\": \"almost_certain\", \"algorithm\": \"BirdNET\", \"metadata\": null, \"species\": {\"id\": 1, \"commonName\": \"House Sparrow\", \"scientificName\": \"Passer domesticus\", \"color\": \"#d16ff8\", \"imageUrl\": \"https://media.birdweather.com/species/1/HouseSparrow-standard-b861184cf45c092cdb45fd689dd676ef.jpg\", \"thumbnailUrl\": \"https://media.birdweather.com/species/1/HouseSparrow-thumbnail-e9cbc91763a1579de8ef04880678b5e3.jpg\", \"pngUrl\": \"https://media.birdweather.com/species/1/HouseSparrow-png200-125e8603e1efe9d7a18316b94f06a65e.png\"}, \"lat\": 47.533493, \"lon\": 8.740102, \"soundscape\": {\"id\": 2183823927, \"url\": \"https://media.birdweather.com/soundscapes/c286653eb9b72eb0078178ffdd1fdabf\", \"startTime\": 3.0, \"endTime\": 6.0, \"mode\": \"live\"}}\\n'\n",
      "Gesendet: b'{\"id\": 1703336901, \"stationId\": 8420, \"timestamp\": \"2025-03-02T16:24:53.500+01:00\", \"confidence\": 0.8531360626220703, \"probability\": 0.6223928928375244, \"score\": 8.974194294402665, \"certainty\": \"almost_certain\", \"algorithm\": \"BirdNET\", \"metadata\": null, \"species\": {\"id\": 1, \"commonName\": \"House Sparrow\", \"scientificName\": \"Passer domesticus\", \"color\": \"#d16ff8\", \"imageUrl\": \"https://media.birdweather.com/species/1/HouseSparrow-standard-b861184cf45c092cdb45fd689dd676ef.jpg\", \"thumbnailUrl\": \"https://media.birdweather.com/species/1/HouseSparrow-thumbnail-e9cbc91763a1579de8ef04880678b5e3.jpg\", \"pngUrl\": \"https://media.birdweather.com/species/1/HouseSparrow-png200-125e8603e1efe9d7a18316b94f06a65e.png\"}, \"lat\": 47.533493, \"lon\": 8.740102, \"soundscape\": {\"id\": 2183823927, \"url\": \"https://media.birdweather.com/soundscapes/c286653eb9b72eb0078178ffdd1fdabf\", \"startTime\": 4.5, \"endTime\": 7.5, \"mode\": \"live\"}}\\n'\n",
      "Gesendet: b'{\"id\": 1703336914, \"stationId\": 8420, \"timestamp\": \"2025-03-02T16:24:55.000+01:00\", \"confidence\": 0.8977864980697632, \"probability\": 0.6223928928375244, \"score\": 9.080546911860404, \"certainty\": \"almost_certain\", \"algorithm\": \"BirdNET\", \"metadata\": null, \"species\": {\"id\": 1, \"commonName\": \"House Sparrow\", \"scientificName\": \"Passer domesticus\", \"color\": \"#d16ff8\", \"imageUrl\": \"https://media.birdweather.com/species/1/HouseSparrow-standard-b861184cf45c092cdb45fd689dd676ef.jpg\", \"thumbnailUrl\": \"https://media.birdweather.com/species/1/HouseSparrow-thumbnail-e9cbc91763a1579de8ef04880678b5e3.jpg\", \"pngUrl\": \"https://media.birdweather.com/species/1/HouseSparrow-png200-125e8603e1efe9d7a18316b94f06a65e.png\"}, \"lat\": 47.533493, \"lon\": 8.740102, \"soundscape\": {\"id\": 2183823927, \"url\": \"https://media.birdweather.com/soundscapes/c286653eb9b72eb0078178ffdd1fdabf\", \"startTime\": 6.0, \"endTime\": 9.0, \"mode\": \"live\"}}\\n'\n",
      "[Errno 32] Broken pipe\n"
     ]
    }
   ],
   "source": [
    "import socket\n",
    "import time\n",
    "import json\n",
    "\n",
    "class Netcat:\n",
    "    \"\"\" Python 'netcat like' module \"\"\"\n",
    "\n",
    "    def __init__(self, ip, port):\n",
    "        self.socket = socket.socket(socket.AF_INET, socket.SOCK_STREAM)\n",
    "        self.socket.setsockopt(socket.SOL_SOCKET, socket.SO_REUSEADDR, 1)\n",
    "        self.socket.bind((ip, port))\n",
    "        self.socket.listen(10)\n",
    "        self.conn, addr = self.socket.accept()\n",
    "        print(f\"Verbindung hergestellt mit {addr}\")\n",
    "\n",
    "    def write(self, data):\n",
    "        message = (data  + \"\\n\").encode('utf-8')\n",
    "        self.conn.send(message)\n",
    "        print(\"Gesendet:\", message)  \n",
    "    \n",
    "    def close(self):\n",
    "        self.socket.close()\n",
    "\n",
    "def send(nc, json_file_path):\n",
    "    with open(json_file_path, 'r', encoding='utf-8') as json_file:\n",
    "        response_json = json.load(json_file)\n",
    "    \n",
    "    for obj in response_json:\n",
    "        nc.write(json.dumps(obj))\n",
    "        time.sleep(1)\n",
    "\n",
    "while True:\n",
    "    nc = Netcat(\"127.0.0.1\", 9999)\n",
    "    try:\n",
    "        send(nc, 'birdsdetection11Tage_backup.json')\n",
    "    except Exception as e:\n",
    "        print(str(e))\n",
    "    finally:\n",
    "        nc.close()"
   ]
  }
 ],
 "metadata": {
  "kernelspec": {
   "display_name": "Python 3 (ipykernel)",
   "language": "python",
   "name": "python3"
  },
  "language_info": {
   "codemirror_mode": {
    "name": "ipython",
    "version": 3
   },
   "file_extension": ".py",
   "mimetype": "text/x-python",
   "name": "python",
   "nbconvert_exporter": "python",
   "pygments_lexer": "ipython3",
   "version": "3.11.6"
  }
 },
 "nbformat": 4,
 "nbformat_minor": 5
}
