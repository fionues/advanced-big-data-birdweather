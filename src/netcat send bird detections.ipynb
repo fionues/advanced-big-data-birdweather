{
 "cells": [
  {
   "cell_type": "code",
   "execution_count": 1,
   "id": "7de17a94-9a10-4451-83af-8d91c5ee2fb0",
   "metadata": {},
   "outputs": [
    {
     "name": "stdout",
     "output_type": "stream",
     "text": [
      "Die JSON-Datei enthält 10000 Objekte.\n"
     ]
    }
   ],
   "source": [
    "# Preparations:\n",
    "\n",
    "import json\n",
    "\n",
    "# Lese die JSON-Datei\n",
    "with open('birdsdetection11Tage_backup.json', 'r') as json_file:\n",
    "    response_json = json.load(json_file)\n",
    "\n",
    "# Berechne die Anzahl der Objekte in der Liste 'detections'\n",
    "num_objects = len(response_json)\n",
    "#response_json['detections']\n",
    "\n",
    "print(f\"Die JSON-Datei enthält {num_objects} Objekte.\")"
   ]
  },
  {
   "cell_type": "code",
   "execution_count": null,
   "id": "f3cd5a60-fc18-4113-bc25-0c2dd8aafd2d",
   "metadata": {},
   "outputs": [],
   "source": [
    "import socket\n",
    "import time\n",
    "import json\n",
    "\n",
    "class Netcat:\n",
    "    \"\"\" Python 'netcat like' module \"\"\"\n",
    "\n",
    "    def __init__(self, ip, port):\n",
    "        self.socket = socket.socket(socket.AF_INET, socket.SOCK_STREAM)\n",
    "        self.socket.setsockopt(socket.SOL_SOCKET, socket.SO_REUSEADDR, 1)\n",
    "        self.socket.bind((ip, port))\n",
    "        self.socket.listen(10)\n",
    "        self.conn, addr = self.socket.accept()\n",
    "        print(f\"Verbindung hergestellt mit {addr}\")\n",
    "\n",
    "    def write(self, data):\n",
    "        message = data.encode('utf-8')\n",
    "        self.conn.send(message)\n",
    "        print(\"Gesendet:\", message)  \n",
    "    \n",
    "    def close(self):\n",
    "        self.socket.close()\n",
    "\n",
    "def send(nc, json_file_path):\n",
    "    with open(json_file_path, 'r', encoding='utf-8') as json_file:\n",
    "        response_json = json.load(json_file)\n",
    "    \n",
    "    for obj in response_json:\n",
    "        nc.write(json.dumps(obj))\n",
    "        time.sleep(1)\n",
    "\n",
    "while True:\n",
    "    nc = Netcat(\"127.0.0.1\", 9999)\n",
    "    try:\n",
    "        send(nc, 'birdsdetection11Tage_backup.json')\n",
    "    except Exception as e:\n",
    "        print(str(e))\n",
    "    finally:\n",
    "        nc.close()"
   ]
  }
 ],
 "metadata": {
  "kernelspec": {
   "display_name": "Python 3 (ipykernel)",
   "language": "python",
   "name": "python3"
  },
  "language_info": {
   "codemirror_mode": {
    "name": "ipython",
    "version": 3
   },
   "file_extension": ".py",
   "mimetype": "text/x-python",
   "name": "python",
   "nbconvert_exporter": "python",
   "pygments_lexer": "ipython3",
   "version": "3.11.6"
  }
 },
 "nbformat": 4,
 "nbformat_minor": 5
}
