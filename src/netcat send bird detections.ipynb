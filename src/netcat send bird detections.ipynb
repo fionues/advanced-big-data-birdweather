{
 "cells": [
  {
   "cell_type": "code",
   "execution_count": 1,
   "id": "7de17a94-9a10-4451-83af-8d91c5ee2fb0",
   "metadata": {},
   "outputs": [
    {
     "name": "stdout",
     "output_type": "stream",
     "text": [
      "Die JSON-Datei enthält 10000 Objekte.\n"
     ]
    }
   ],
   "source": [
    "# Preparations:\n",
    "\n",
    "import json\n",
    "\n",
    "# Lese die JSON-Datei\n",
    "with open('birdsdetection11Tage_backup.json', 'r') as json_file:\n",
    "    response_json = json.load(json_file)\n",
    "\n",
    "# Berechne die Anzahl der Objekte in der Liste 'detections'\n",
    "num_objects = len(response_json)\n",
    "#response_json['detections']\n",
    "\n",
    "print(f\"Die JSON-Datei enthält {num_objects} Objekte.\")"
   ]
  },
  {
   "cell_type": "code",
   "execution_count": 2,
   "id": "f3cd5a60-fc18-4113-bc25-0c2dd8aafd2d",
   "metadata": {},
   "outputs": [
    {
     "ename": "OSError",
     "evalue": "[Errno 98] Address already in use",
     "output_type": "error",
     "traceback": [
      "\u001b[0;31m---------------------------------------------------------------------------\u001b[0m",
      "\u001b[0;31mOSError\u001b[0m                                   Traceback (most recent call last)",
      "Cell \u001b[0;32mIn[2], line 33\u001b[0m\n\u001b[1;32m     30\u001b[0m         time\u001b[38;5;241m.\u001b[39msleep(\u001b[38;5;241m1\u001b[39m)\n\u001b[1;32m     32\u001b[0m \u001b[38;5;28;01mwhile\u001b[39;00m \u001b[38;5;28;01mTrue\u001b[39;00m:\n\u001b[0;32m---> 33\u001b[0m     nc \u001b[38;5;241m=\u001b[39m \u001b[43mNetcat\u001b[49m\u001b[43m(\u001b[49m\u001b[38;5;124;43m\"\u001b[39;49m\u001b[38;5;124;43m127.0.0.1\u001b[39;49m\u001b[38;5;124;43m\"\u001b[39;49m\u001b[43m,\u001b[49m\u001b[43m \u001b[49m\u001b[38;5;241;43m9999\u001b[39;49m\u001b[43m)\u001b[49m\n\u001b[1;32m     34\u001b[0m     \u001b[38;5;28;01mtry\u001b[39;00m:\n\u001b[1;32m     35\u001b[0m         send(nc, \u001b[38;5;124m'\u001b[39m\u001b[38;5;124mbirdsdetection11Tage_backup.json\u001b[39m\u001b[38;5;124m'\u001b[39m)\n",
      "Cell \u001b[0;32mIn[2], line 11\u001b[0m, in \u001b[0;36mNetcat.__init__\u001b[0;34m(self, ip, port)\u001b[0m\n\u001b[1;32m      9\u001b[0m \u001b[38;5;28mself\u001b[39m\u001b[38;5;241m.\u001b[39msocket \u001b[38;5;241m=\u001b[39m socket\u001b[38;5;241m.\u001b[39msocket(socket\u001b[38;5;241m.\u001b[39mAF_INET, socket\u001b[38;5;241m.\u001b[39mSOCK_STREAM)\n\u001b[1;32m     10\u001b[0m \u001b[38;5;28mself\u001b[39m\u001b[38;5;241m.\u001b[39msocket\u001b[38;5;241m.\u001b[39msetsockopt(socket\u001b[38;5;241m.\u001b[39mSOL_SOCKET, socket\u001b[38;5;241m.\u001b[39mSO_REUSEADDR, \u001b[38;5;241m1\u001b[39m)\n\u001b[0;32m---> 11\u001b[0m \u001b[38;5;28;43mself\u001b[39;49m\u001b[38;5;241;43m.\u001b[39;49m\u001b[43msocket\u001b[49m\u001b[38;5;241;43m.\u001b[39;49m\u001b[43mbind\u001b[49m\u001b[43m(\u001b[49m\u001b[43m(\u001b[49m\u001b[43mip\u001b[49m\u001b[43m,\u001b[49m\u001b[43m \u001b[49m\u001b[43mport\u001b[49m\u001b[43m)\u001b[49m\u001b[43m)\u001b[49m\n\u001b[1;32m     12\u001b[0m \u001b[38;5;28mself\u001b[39m\u001b[38;5;241m.\u001b[39msocket\u001b[38;5;241m.\u001b[39mlisten(\u001b[38;5;241m10\u001b[39m)\n\u001b[1;32m     13\u001b[0m \u001b[38;5;28mself\u001b[39m\u001b[38;5;241m.\u001b[39mconn, addr \u001b[38;5;241m=\u001b[39m \u001b[38;5;28mself\u001b[39m\u001b[38;5;241m.\u001b[39msocket\u001b[38;5;241m.\u001b[39maccept()\n",
      "\u001b[0;31mOSError\u001b[0m: [Errno 98] Address already in use"
     ]
    }
   ],
   "source": [
    "import socket\n",
    "import time\n",
    "import json\n",
    "\n",
    "class Netcat:\n",
    "    \"\"\" Python 'netcat like' module \"\"\"\n",
    "\n",
    "    def __init__(self, ip, port):\n",
    "        self.socket = socket.socket(socket.AF_INET, socket.SOCK_STREAM)\n",
    "        self.socket.setsockopt(socket.SOL_SOCKET, socket.SO_REUSEADDR, 1)\n",
    "        self.socket.bind((ip, port))\n",
    "        self.socket.listen(10)\n",
    "        self.conn, addr = self.socket.accept()\n",
    "        print(f\"Verbindung hergestellt mit {addr}\")\n",
    "\n",
    "    def write(self, data):\n",
    "        message = data.encode('utf-8')\n",
    "        self.conn.send(message)\n",
    "        print(\"Gesendet:\", message)  \n",
    "    \n",
    "    def close(self):\n",
    "        self.socket.close()\n",
    "\n",
    "def send(nc, json_file_path):\n",
    "    with open(json_file_path, 'r', encoding='utf-8') as json_file:\n",
    "        response_json = json.load(json_file)\n",
    "    \n",
    "    for obj in response_json:\n",
    "        nc.write(json.dumps(obj))\n",
    "        time.sleep(1)\n",
    "\n",
    "while True:\n",
    "    nc = Netcat(\"127.0.0.1\", 9999)\n",
    "    try:\n",
    "        send(nc, 'birdsdetection11Tage_backup.json')\n",
    "    except Exception as e:\n",
    "        print(str(e))\n",
    "    finally:\n",
    "        nc.close()"
   ]
  }
 ],
 "metadata": {
  "kernelspec": {
   "display_name": "Python 3 (ipykernel)",
   "language": "python",
   "name": "python3"
  },
  "language_info": {
   "codemirror_mode": {
    "name": "ipython",
    "version": 3
   },
   "file_extension": ".py",
   "mimetype": "text/x-python",
   "name": "python",
   "nbconvert_exporter": "python",
   "pygments_lexer": "ipython3",
   "version": "3.11.6"
  }
 },
 "nbformat": 4,
 "nbformat_minor": 5
}
