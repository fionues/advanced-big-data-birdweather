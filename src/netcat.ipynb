{
 "cells": [
  {
   "cell_type": "markdown",
   "metadata": {},
   "source": [
    "#Netcat\n",
    "\n",
    "This notebook provide some basic netcat functionality which you need to let a stream run so that the Spark Streaming Engine can process it.\n",
    "\n",
    "The simplest way is to click `Run All` on the top. (You can change the message it sends when you want). <br>\n",
    "To do this, after you run it, you have to `stop the Execution` and you have to manually execute `nc.close()`. <br>\n",
    "Then you can modify the function `send(nc)` and then press `Run All` again."
   ]
  },
  {
   "cell_type": "code",
   "execution_count": null,
   "metadata": {},
   "outputs": [
    {
     "data": {
      "text/html": [
       "<style scoped>\n",
       "  .ansiout {\n",
       "    display: block;\n",
       "    unicode-bidi: embed;\n",
       "    white-space: pre-wrap;\n",
       "    word-wrap: break-word;\n",
       "    word-break: break-all;\n",
       "    font-family: \"Source Code Pro\", \"Menlo\", monospace;;\n",
       "    font-size: 13px;\n",
       "    color: #555;\n",
       "    margin-left: 4px;\n",
       "    line-height: 19px;\n",
       "  }\n",
       "</style>\n",
       "<div class=\"ansiout\"></div>"
      ]
     },
     "metadata": {},
     "output_type": "display_data"
    }
   ],
   "source": [
    "import socket\n",
    "import time\n",
    "\n",
    "class Netcat:\n",
    "\n",
    "    \"\"\" Python 'netcat like' module \"\"\"\n",
    "\n",
    "    def __init__(self, ip, port):\n",
    "\n",
    "        self.buff = \"\"\n",
    "        self.socket = socket.socket(socket.AF_INET, socket.SOCK_STREAM)\n",
    "        self.socket.setsockopt(socket.SOL_SOCKET, socket.SO_REUSEADDR, 1)\n",
    "        self.socket.bind((ip, port))\n",
    "        self.socket.listen(10)\n",
    "        self.conn, addr = self.socket.accept()\n",
    " \n",
    "    def write(self, data):\n",
    "        # append newline between messages\n",
    "        data = data + \"\\n\"\n",
    "        # encode before sending through socket\n",
    "        message = data.encode()\n",
    "        self.conn.send(message)\n",
    "    \n",
    "    def close(self):\n",
    "\n",
    "      self.socket.close()"
   ]
  },
  {
   "cell_type": "code",
   "execution_count": null,
   "metadata": {},
   "outputs": [
    {
     "data": {
      "text/html": [
       "<style scoped>\n",
       "  .ansiout {\n",
       "    display: block;\n",
       "    unicode-bidi: embed;\n",
       "    white-space: pre-wrap;\n",
       "    word-wrap: break-word;\n",
       "    word-break: break-all;\n",
       "    font-family: \"Source Code Pro\", \"Menlo\", monospace;;\n",
       "    font-size: 13px;\n",
       "    color: #555;\n",
       "    margin-left: 4px;\n",
       "    line-height: 19px;\n",
       "  }\n",
       "</style>\n",
       "<div class=\"ansiout\"></div>"
      ]
     },
     "metadata": {},
     "output_type": "display_data"
    }
   ],
   "source": [
    "def send(nc):\n",
    "  # RUN ONLY 3 iterations per each window of 1 second to make sure that wordcount works as expected\n",
    "  i = 0\n",
    "  while True:\n",
    "    try:\n",
    "      print(\"Sending iteration \"+ str(i))\n",
    "      nc.write('Hello World Bye World')\n",
    "      nc.write('Hello Spark Goodbye Spark')\n",
    "      nc.write(\"ass isn't allowed.\")\n",
    "      i+=1\n",
    "      if i == 3:\n",
    "        time.sleep(1)\n",
    "        i = 0\n",
    "    except Exception as e:\n",
    "      print(str(e))\n",
    "      break"
   ]
  },
  {
   "cell_type": "code",
   "execution_count": null,
   "metadata": {},
   "outputs": [],
   "source": [
    "# start a new Netcat() instance\n",
    "# Note: When you experiment with the producer you might receive the following error message: OSError: [Errno 98] Address already in use\n",
    "#       A simple fix is to change the port number of the producer and the consumer, e.g. from 9999 to 9998\n",
    "while True:\n",
    "  nc = Netcat(\"127.0.0.1\", 9999)\n",
    "  try:\n",
    "    send(nc)\n",
    "  except Exception as e:\n",
    "    print(str(e))\n",
    "  finally:\n",
    "    nc.close()\n"
   ]
  },
  {
   "cell_type": "code",
   "execution_count": null,
   "metadata": {},
   "outputs": [],
   "source": [
    "# Always close at the end\n",
    "nc.close()"
   ]
  }
 ],
 "metadata": {
  "language_info": {
   "name": "python"
  },
  "name": "netcat",
  "notebookId": 1811266470523759
 },
 "nbformat": 4,
 "nbformat_minor": 0
}
